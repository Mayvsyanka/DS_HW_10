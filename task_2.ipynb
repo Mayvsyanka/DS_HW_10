{
  "cells": [
    {
      "cell_type": "code",
      "execution_count": null,
      "metadata": {
        "id": "FGvjbIjD1-k8"
      },
      "outputs": [],
      "source": [
        "import numpy as np\n",
        "import tensorflow as tf\n",
        "import matplotlib.pyplot as plt\n",
        "from keras.models import Sequential\n",
        "from keras import layers\n",
        "from keras.datasets import fashion_mnist\n",
        "from tensorflow.keras.utils import to_categorical\n",
        "from datetime import datetime\n",
        "from keras.applications.vgg16 import VGG16\n",
        "from keras.preprocessing.image import ImageDataGenerator\n",
        "from keras import optimizers"
      ]
    },
    {
      "cell_type": "code",
      "execution_count": null,
      "metadata": {
        "colab": {
          "base_uri": "https://localhost:8080/"
        },
        "id": "wANi6E7O6pw8",
        "outputId": "bf02dd64-8143-427d-82cb-d0eb2d92d9ec"
      },
      "outputs": [
        {
          "name": "stdout",
          "output_type": "stream",
          "text": [
            "Downloading data from https://storage.googleapis.com/tensorflow/tf-keras-datasets/train-labels-idx1-ubyte.gz\n",
            "29515/29515 [==============================] - 0s 1us/step\n",
            "Downloading data from https://storage.googleapis.com/tensorflow/tf-keras-datasets/train-images-idx3-ubyte.gz\n",
            "26421880/26421880 [==============================] - 2s 0us/step\n",
            "Downloading data from https://storage.googleapis.com/tensorflow/tf-keras-datasets/t10k-labels-idx1-ubyte.gz\n",
            "5148/5148 [==============================] - 0s 0us/step\n",
            "Downloading data from https://storage.googleapis.com/tensorflow/tf-keras-datasets/t10k-images-idx3-ubyte.gz\n",
            "4422102/4422102 [==============================] - 1s 0us/step\n"
          ]
        }
      ],
      "source": [
        "(train_images, train_labels), (test_images, test_labels) = fashion_mnist.load_data()\n",
        "\n",
        "train_images = tf.image.resize(train_images[..., tf.newaxis], (32, 32))\n",
        "train_images = np.repeat(train_images, 3, axis=-1)\n",
        "test_images = tf.image.resize(test_images[..., tf.newaxis], (32, 32))\n",
        "test_images = np.repeat(test_images, 3, axis=-1)\n",
        "train_images = train_images / 255.0\n",
        "test_images = test_images/ 255.0\n",
        "\n",
        "train_labels = to_categorical(train_labels, 10)\n",
        "test_labels = to_categorical(test_labels, 10)\n"
      ]
    },
    {
      "cell_type": "markdown",
      "metadata": {
        "id": "5jKrqb1IX5FF"
      },
      "source": [
        "**Побудова СNN на принципі виділення ознак.**\n",
        "\n",
        "*Так як модель потрібна більше для порівняння, немає сенсу брати велику кількість епох, так як це значно збільшує час навчання.*"
      ]
    },
    {
      "cell_type": "code",
      "execution_count": null,
      "metadata": {
        "colab": {
          "base_uri": "https://localhost:8080/"
        },
        "id": "rIRlvgehUAMy",
        "outputId": "b6228d5a-38f4-4bca-86e1-49083ad670b5"
      },
      "outputs": [
        {
          "name": "stdout",
          "output_type": "stream",
          "text": [
            "Epoch 1/3\n",
            "750/750 [==============================] - 703s 936ms/step - loss: 0.5670 - acc: 0.8014 - val_loss: 0.4662 - val_acc: 0.8318\n",
            "Epoch 2/3\n",
            "750/750 [==============================] - 634s 846ms/step - loss: 0.4209 - acc: 0.8466 - val_loss: 0.4256 - val_acc: 0.8447\n",
            "Epoch 3/3\n",
            "750/750 [==============================] - 636s 848ms/step - loss: 0.3836 - acc: 0.8591 - val_loss: 0.4198 - val_acc: 0.8500\n"
          ]
        }
      ],
      "source": [
        "conv_base = VGG16(weights=\"imagenet\", include_top=False, input_shape=(32, 32, 3))\n",
        "conv_base.trainable = False\n",
        "\n",
        "model = Sequential([\n",
        "   conv_base,\n",
        "   layers.Flatten(),\n",
        "   layers.Dense(256, activation=\"relu\"),\n",
        "   layers.Dense(10, activation=\"softmax\"),\n",
        "])\n",
        "\n",
        "model.compile(\n",
        "    loss=\"categorical_crossentropy\",\n",
        "    optimizer=tf.keras.optimizers.legacy.Adam(learning_rate=0.001),\n",
        "    metrics=[\"acc\"]\n",
        ")\n",
        "\n",
        "history = model.fit(train_images, train_labels, epochs=5, verbose=1, batch_size=64, validation_split=0.2)"
      ]
    },
    {
      "cell_type": "code",
      "execution_count": null,
      "metadata": {
        "colab": {
          "base_uri": "https://localhost:8080/"
        },
        "id": "x3Jzo3R0X6Co",
        "outputId": "e0bcf467-acd0-4a5d-f33f-ebf617daffd8"
      },
      "outputs": [
        {
          "name": "stdout",
          "output_type": "stream",
          "text": [
            "313/313 [==============================] - 106s 338ms/step - loss: 0.4243 - acc: 0.8489\n",
            "Test loss: 0.4243021607398987\n",
            "Test accuracy: 0.8489000201225281\n"
          ]
        }
      ],
      "source": [
        "test_loss, test_accuracy = model.evaluate(test_images, test_labels)\n",
        "print(f\"Test loss: {test_loss}\")\n",
        "print(f\"Test accuracy: {test_accuracy}\")"
      ]
    },
    {
      "cell_type": "code",
      "execution_count": null,
      "metadata": {
        "colab": {
          "base_uri": "https://localhost:8080/"
        },
        "id": "LFuCp1oKYWls",
        "outputId": "926002bd-0f15-4c44-cce3-1a086ee3ad33"
      },
      "outputs": [
        {
          "name": "stdout",
          "output_type": "stream",
          "text": [
            "Model: \"vgg16\"\n",
            "_________________________________________________________________\n",
            " Layer (type)                Output Shape              Param #   \n",
            "=================================================================\n",
            " input_2 (InputLayer)        [(None, 32, 32, 3)]       0         \n",
            "                                                                 \n",
            " block1_conv1 (Conv2D)       (None, 32, 32, 64)        1792      \n",
            "                                                                 \n",
            " block1_conv2 (Conv2D)       (None, 32, 32, 64)        36928     \n",
            "                                                                 \n",
            " block1_pool (MaxPooling2D)  (None, 16, 16, 64)        0         \n",
            "                                                                 \n",
            " block2_conv1 (Conv2D)       (None, 16, 16, 128)       73856     \n",
            "                                                                 \n",
            " block2_conv2 (Conv2D)       (None, 16, 16, 128)       147584    \n",
            "                                                                 \n",
            " block2_pool (MaxPooling2D)  (None, 8, 8, 128)         0         \n",
            "                                                                 \n",
            " block3_conv1 (Conv2D)       (None, 8, 8, 256)         295168    \n",
            "                                                                 \n",
            " block3_conv2 (Conv2D)       (None, 8, 8, 256)         590080    \n",
            "                                                                 \n",
            " block3_conv3 (Conv2D)       (None, 8, 8, 256)         590080    \n",
            "                                                                 \n",
            " block3_pool (MaxPooling2D)  (None, 4, 4, 256)         0         \n",
            "                                                                 \n",
            " block4_conv1 (Conv2D)       (None, 4, 4, 512)         1180160   \n",
            "                                                                 \n",
            " block4_conv2 (Conv2D)       (None, 4, 4, 512)         2359808   \n",
            "                                                                 \n",
            " block4_conv3 (Conv2D)       (None, 4, 4, 512)         2359808   \n",
            "                                                                 \n",
            " block4_pool (MaxPooling2D)  (None, 2, 2, 512)         0         \n",
            "                                                                 \n",
            " block5_conv1 (Conv2D)       (None, 2, 2, 512)         2359808   \n",
            "                                                                 \n",
            " block5_conv2 (Conv2D)       (None, 2, 2, 512)         2359808   \n",
            "                                                                 \n",
            " block5_conv3 (Conv2D)       (None, 2, 2, 512)         2359808   \n",
            "                                                                 \n",
            " block5_pool (MaxPooling2D)  (None, 1, 1, 512)         0         \n",
            "                                                                 \n",
            "=================================================================\n",
            "Total params: 14714688 (56.13 MB)\n",
            "Trainable params: 0 (0.00 Byte)\n",
            "Non-trainable params: 14714688 (56.13 MB)\n",
            "_________________________________________________________________\n"
          ]
        }
      ],
      "source": [
        "conv_base.summary()"
      ]
    },
    {
      "cell_type": "markdown",
      "metadata": {
        "id": "Qle-YTAyaCzx"
      },
      "source": [
        "Використання принципу донавчання з розморожуванням трьох верхніх шарів. Усі параметри залишаються як і в попередній моделі, лише додається донавчання трьох шарів."
      ]
    },
    {
      "cell_type": "code",
      "execution_count": null,
      "metadata": {
        "colab": {
          "background_save": true,
          "base_uri": "https://localhost:8080/"
        },
        "id": "Plk8UPiWZqWe",
        "outputId": "5a885167-7ac4-4dd6-891d-757516300168"
      },
      "outputs": [
        {
          "name": "stdout",
          "output_type": "stream",
          "text": [
            "Downloading data from https://storage.googleapis.com/tensorflow/keras-applications/vgg16/vgg16_weights_tf_dim_ordering_tf_kernels_notop.h5\n",
            "58889256/58889256 [==============================] - 3s 0us/step\n",
            "Epoch 1/3\n",
            "750/750 [==============================] - 1966s 3s/step - loss: 0.4476 - acc: 0.8409 - val_loss: 0.3646 - val_acc: 0.8703\n",
            "Epoch 2/3\n",
            "750/750 [==============================] - 1973s 3s/step - loss: 0.3181 - acc: 0.8876 - val_loss: 0.3052 - val_acc: 0.8883\n",
            "Epoch 3/3\n",
            "750/750 [==============================] - 1932s 3s/step - loss: 0.2782 - acc: 0.8987 - val_loss: 0.2934 - val_acc: 0.8982\n"
          ]
        }
      ],
      "source": [
        "conv_base = VGG16(weights=\"imagenet\", include_top=False, input_shape=(32, 32, 3))\n",
        "\n",
        "conv_base.trainable = True\n",
        "set_trainable = False\n",
        "for layer in conv_base.layers:\n",
        "    if layer.name == \"block5_conv1\":\n",
        "        set_trainable = True\n",
        "    if set_trainable:\n",
        "        layer.trainable = True\n",
        "    else:\n",
        "        layer.trainable = False\n",
        "\n",
        "modified_model = Sequential([\n",
        "   conv_base,\n",
        "   layers.Flatten(),\n",
        "   layers.Dense(256, activation=\"relu\"),\n",
        "   layers.Dense(10, activation=\"softmax\"),\n",
        "])\n",
        "\n",
        "modified_model.compile(\n",
        "    loss=\"categorical_crossentropy\",\n",
        "    optimizer=tf.keras.optimizers.legacy.Adam(learning_rate=0.001),\n",
        "    metrics=[\"acc\"]\n",
        ")\n",
        "\n",
        "history = modified_model.fit(train_images, train_labels, epochs=3, verbose=1, batch_size=64, validation_split=0.2)"
      ]
    },
    {
      "cell_type": "markdown",
      "source": [
        "Використовуючи донавчання вийшло досягнути точності, кращої за багатошарову nn, але аналізуючи результат згорткової nnб можна зробити висновок, що для таких не дуже складних класифікацій краще писати архітектуру з нуля ніж засновувати її на таких складних алгоритмах"
      ],
      "metadata": {
        "id": "ryYnHHxLMi9b"
      }
    }
  ],
  "metadata": {
    "colab": {
      "provenance": []
    },
    "kernelspec": {
      "display_name": "Python 3",
      "name": "python3"
    },
    "language_info": {
      "name": "python"
    }
  },
  "nbformat": 4,
  "nbformat_minor": 0
}